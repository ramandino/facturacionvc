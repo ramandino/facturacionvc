{
 "cells": [
  {
   "cell_type": "code",
   "execution_count": null,
   "metadata": {},
   "outputs": [],
   "source": [
    "import pandas as pd # type: ignore"
   ]
  },
  {
   "cell_type": "code",
   "execution_count": 2,
   "metadata": {},
   "outputs": [],
   "source": [
    "data_facturacion = pd.read_csv(\"files/reservas.csv\")\n"
   ]
  },
  {
   "cell_type": "code",
   "execution_count": 23,
   "metadata": {},
   "outputs": [
    {
     "name": "stdout",
     "output_type": "stream",
     "text": [
      "EFHXGR\n",
      "IDTOOH\n",
      "QYWYZN\n",
      "NOZAZS\n",
      "YZNLUL\n",
      "CJCDGH\n",
      "YZNBSP\n"
     ]
    }
   ],
   "source": [
    "data_facturacion.head()\n",
    "clean_data = data_facturacion[\"reserva\"]\n",
    "reserva = clean_data.dropna()\n",
    "\n",
    "for i in reserva:\n",
    "    print (i)\n"
   ]
  },
  {
   "cell_type": "code",
   "execution_count": 38,
   "metadata": {},
   "outputs": [],
   "source": [
    "def get_reservas ():\n",
    "    data_facturacion = pd.read_csv(\"files/reservas.csv\")\n",
    "    data_facturacion.head()\n",
    "    clean_data = data_facturacion[\"reserva\"]\n",
    "    reserva = clean_data.dropna()\n",
    "\n",
    "    reservas = []\n",
    "\n",
    "    for i in reserva:\n",
    "        reservas.append(i)\n",
    "\n",
    "    return reservas\n",
    "    \n",
    "\n"
   ]
  },
  {
   "cell_type": "code",
   "execution_count": 42,
   "metadata": {},
   "outputs": [
    {
     "data": {
      "text/plain": [
       "['EFHXGR', 'IDTOOH', 'QYWYZN', 'NOZAZS', 'YZNLUL', 'CJCDGH', 'YZNBSP']"
      ]
     },
     "execution_count": 42,
     "metadata": {},
     "output_type": "execute_result"
    }
   ],
   "source": [
    "\n",
    "get_reservas()"
   ]
  }
 ],
 "metadata": {
  "kernelspec": {
   "display_name": ".venv",
   "language": "python",
   "name": "python3"
  },
  "language_info": {
   "codemirror_mode": {
    "name": "ipython",
    "version": 3
   },
   "file_extension": ".py",
   "mimetype": "text/x-python",
   "name": "python",
   "nbconvert_exporter": "python",
   "pygments_lexer": "ipython3",
   "version": "3.13.0"
  }
 },
 "nbformat": 4,
 "nbformat_minor": 2
}
